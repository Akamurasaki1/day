{
  "nbformat": 4,
  "nbformat_minor": 0,
  "metadata": {
    "colab": {
      "provenance": [],
      "authorship_tag": "ABX9TyPm8JSrb67iATP+1Kqp467T",
      "include_colab_link": true
    },
    "kernelspec": {
      "name": "python3",
      "display_name": "Python 3"
    },
    "language_info": {
      "name": "python"
    }
  },
  "cells": [
    {
      "cell_type": "markdown",
      "metadata": {
        "id": "view-in-github",
        "colab_type": "text"
      },
      "source": [
        "<a href=\"https://colab.research.google.com/github/Akamurasaki1/day/blob/main/n%E6%97%A5%E5%BE%8C%E3%81%AF%E4%BD%95%E6%97%A5%EF%BC%9F.ipynb\" target=\"_parent\"><img src=\"https://colab.research.google.com/assets/colab-badge.svg\" alt=\"Open In Colab\"/></a>"
      ]
    },
    {
      "cell_type": "code",
      "source": [
        "print(\"起点にしたい年月日は(初日を含まず計算されます)？\")\n",
        "Y_0,M_0,D_0=input(),input(),input()\n",
        "print(\"何日後が知りたい？\")\n",
        "Goal_1=int(input())\n",
        "def uruuy(years): #うるう年の判定\n",
        "  uruuy=[]\n",
        "  for year in (years):\n",
        "    if year%4==0:\n",
        "      uruuy.append(year)\n",
        "      if year%100==0:\n",
        "        del uruuy[-1]\n",
        "        if year%400==0:\n",
        "          uruuy.append(year)\n",
        "    else:\n",
        "      pass\n",
        "    continue\n",
        "  return uruuy\n",
        "zennbuy=[]\n",
        "for i in range (0,(Goal_1//365)+3):\n",
        "  zennbuy.append(int(Y_0)+i)\n",
        "  print(zennbuy)\n",
        "print(uruuy(zennbuy))\n",
        "sugitam=[] #起点の年で起点の日以前に完全に含まれる月\n",
        "for j in range (0,int(M_0)-1):\n",
        "  sugitam.append(1+j)\n",
        "  print(sugitam)\n",
        "def mD(years,months): #月の日数\n",
        "  D=0\n",
        "  for month in (months):\n",
        "    if int(month)==1 or int(month)==3 or int(month)==5 or int(month)==7 or int(month)==8 or int(month)==10 or int(month)==12:\n",
        "      D+=31\n",
        "    if int(month)==4 or int(month)==6 or int(month)==9 or int(month)==11:\n",
        "        D+=30\n",
        "    if int(month)==2:\n",
        "      if int(years)in uruuy(zennbuy):\n",
        "        D+=29\n",
        "      else:\n",
        "        D+=28\n",
        "    if int(month)==0:\n",
        "      D+=0\n",
        "  return D\n",
        "print(mD(Y_0,sugitam))\n",
        "past=mD(Y_0,sugitam)+int(D_0) #起点の年でもう過ぎた日数(1月4日なら4)\n",
        "print(past)\n",
        "Goal=int(Goal_1)+past\n",
        "print(Goal)\n",
        "def yD(years):\n",
        "  D=0\n",
        "  for year in (years):\n",
        "    if year in uruuy(zennbuy):\n",
        "      D+=366\n",
        "    else:\n",
        "      D+=365\n",
        "      continue\n",
        "  return D\n",
        "umetekuy=[int(Y_0)]\n",
        "while yD(umetekuy) <= Goal:\n",
        "  umetekuy.append(umetekuy[-1]+1)\n",
        "print(umetekuy)\n",
        "Y_n=umetekuy[-1]\n",
        "print(Y_n)\n",
        "nokori=Goal-yD(umetekuy[:-1]) #月日部分になる日数\n",
        "print(nokori)\n",
        "umetekum=[0]\n",
        "while mD(Y_n,umetekum)<=nokori:\n",
        "  umetekum.append(int(umetekum[-1])+1)\n",
        "M_n=umetekum[-1]\n",
        "print(M_n)\n",
        "D_n=nokori-mD(Y_n,umetekum[:-1])\n",
        "print(D_n)\n",
        "print(f\"{Y_0}年{M_0}月{D_0}日の{Goal_1}日後は{Y_n}年{M_n}月{D_n}日です！\")"
      ],
      "metadata": {
        "colab": {
          "base_uri": "https://localhost:8080/"
        },
        "id": "VLVZeCBZ5vsG",
        "outputId": "45071d6b-a571-4a83-e99e-1aac408bef08"
      },
      "execution_count": 10,
      "outputs": [
        {
          "output_type": "stream",
          "name": "stdout",
          "text": [
            "起点にしたい年月日は(初日を含まず計算されます)？\n",
            "2011\n",
            "3\n",
            "11\n",
            "何日後が知りたい？\n",
            "1000\n",
            "[2011]\n",
            "[2011, 2012]\n",
            "[2011, 2012, 2013]\n",
            "[2011, 2012, 2013, 2014]\n",
            "[2011, 2012, 2013, 2014, 2015]\n",
            "[2012]\n",
            "[1]\n",
            "[1, 2]\n",
            "59\n",
            "70\n",
            "1070\n",
            "[2011, 2012, 2013]\n",
            "2013\n",
            "339\n",
            "12\n",
            "5\n",
            "2011年3月11日の1000日後は2013年12月5日です！\n"
          ]
        }
      ]
    }
  ]
}